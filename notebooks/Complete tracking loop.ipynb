{
 "cells": [
  {
   "cell_type": "code",
   "execution_count": 1,
   "metadata": {},
   "outputs": [],
   "source": [
    "%matplotlib notebook\n",
    "%load_ext autoreload\n",
    "%autoreload 2"
   ]
  },
  {
   "cell_type": "markdown",
   "metadata": {},
   "source": [
    "# Complete simulation loop\n",
    "\n",
    "1. Get target position\n",
    "2. Obtain low-level updates and predictions in loop when interval is less than update interval\n",
    "\n",
    "3. Calculate SN0\n",
    "4. Calculate SNR using predicted angle coordinates\n",
    "5. Calculate PD -> assume that the PD remains the same though the dwells\n",
    "5. Simulate the dwell time (first expected later can be modified to stochastic)\n",
    "6. return load\n",
    "7. Calculate new interval for measurement\n",
    "8. Return step one"
   ]
  },
  {
   "cell_type": "code",
   "execution_count": 2,
   "metadata": {},
   "outputs": [],
   "source": [
    "import numpy as np\n",
    "import matplotlib.pyplot as plt\n",
    "from filterpy.kalman import KalmanFilter\n",
    "from filterpy.common import kinematic_kf\n",
    "from target import SingerModel\n",
    "from simulation import simulate_on_trajectory, create_trajectory\n",
    "from tracking import ResidualUpdatePolicy\n",
    "from radar import MonostaticRadar"
   ]
  },
  {
   "cell_type": "code",
   "execution_count": 25,
   "metadata": {},
   "outputs": [],
   "source": [
    "def cart2polar(x):\n",
    "    return np.array([np.linalg.norm(x), np.arctan(x[1]/x[0])])\n",
    "\n",
    "def measurement_matrix(angle, var_r, var_alpha):\n",
    "    var_x = var_r * np.cos(-angle)**2 + var_alpha * np.sin(-angle)**2\n",
    "    var_y = var_r * np.sin(-angle)**2 + var_alpha * np.cos(-angle)**2\n",
    "    var_xy = (var_r * var_alpha) * np.sin(-angle)**2 * np.cos(-angle)**2\n",
    "    return np.array([\n",
    "        [var_x, var_xy],\n",
    "        [var_xy, var_y]\n",
    "    ])"
   ]
  },
  {
   "cell_type": "code",
   "execution_count": 12,
   "metadata": {},
   "outputs": [],
   "source": [
    "dt = 0.1\n",
    "horizon=100\n",
    "target = SingerModel(1, 1, np.zeros(3))\n",
    "trajectory1 = create_trajectory(target, dt, horizon)\n",
    "trajectory2 = create_trajectory(target, dt, horizon)\n",
    "\n",
    "states = np.concatenate((trajectory1, trajectory2), axis=1)"
   ]
  },
  {
   "cell_type": "code",
   "execution_count": 19,
   "metadata": {},
   "outputs": [
    {
     "data": {
      "text/plain": [
       "array([[1., 0.],\n",
       "       [0., 1.]])"
      ]
     },
     "execution_count": 19,
     "metadata": {},
     "output_type": "execute_result"
    }
   ],
   "source": [
    "tracker = kinematic_kf(dim=2, order=2)\n",
    "tracker.x = np.zeros((6, 1))\n",
    "tracker.F[:3, :3] = target.F(dt)\n",
    "tracker.F[3:, 3:] = target.F(dt)\n",
    "tracker.Q[:3, :3] = target.Q(dt)\n",
    "tracker.Q[3:, 3:] = target.Q(dt)"
   ]
  },
  {
   "cell_type": "code",
   "execution_count": null,
   "metadata": {},
   "outputs": [],
   "source": [
    "power = 100e3\n",
    "gain_transmit = 1\n",
    "gain_receive = 1\n",
    "wavelength = 0.15\n",
    "rcs = 1\n",
    "thermal_noise = 0.001\n",
    "horizon = 1000\n",
    "beamwidth = 5/180 * np.pi\n",
    "pf = 1e-5\n",
    "# simulation loop\n",
    "\n",
    "\n",
    "\n",
    "positions = np.array([trajectory1[:, 0], trajectory2[:, 0]]).T\n",
    "\n",
    "for t in range(horizon):\n",
    "    pos = positions[t] # get positions\n",
    "    polar = cart2polar(pos)\n",
    "    angle = np.arctan(pos[1]/pos[0])\n",
    "    # Get predicted SNR at the given position \n",
    "    angle_hat\n",
    "    distance = np.linalg.norm(pos)\n",
    "    SN0 = (power*gain_transmit*gain_receive*wavelength**2*rcs)/((4*np.pi)**3*distance**4*thermal_noise)\n",
    "    SNR = SN0 * np.exp(-2 * (angle_hat - angle)**2 / (beamwidth**2))\n",
    "    Pd = pf**(1/(1+SNR))\n",
    "    \n",
    "    if True:\n",
    "        dwell_time = 1/Pd\n",
    "        load = dwell_time / interval\n",
    "    else:\n",
    "        pass"
   ]
  }
 ],
 "metadata": {
  "hide_input": false,
  "kernelspec": {
   "display_name": "Python 3",
   "language": "python",
   "name": "python3"
  },
  "language_info": {
   "codemirror_mode": {
    "name": "ipython",
    "version": 3
   },
   "file_extension": ".py",
   "mimetype": "text/x-python",
   "name": "python",
   "nbconvert_exporter": "python",
   "pygments_lexer": "ipython3",
   "version": "3.8.1"
  },
  "toc": {
   "base_numbering": 1,
   "nav_menu": {},
   "number_sections": true,
   "sideBar": true,
   "skip_h1_title": false,
   "title_cell": "Table of Contents",
   "title_sidebar": "Contents",
   "toc_cell": false,
   "toc_position": {},
   "toc_section_display": true,
   "toc_window_display": false
  }
 },
 "nbformat": 4,
 "nbformat_minor": 4
}
